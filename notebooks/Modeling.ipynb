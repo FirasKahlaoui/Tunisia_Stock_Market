{
 "cells": [
  {
   "cell_type": "markdown",
   "metadata": {},
   "source": [
    "# Model Building and Evaluation\n",
    "\n",
    "In this notebook, we will build and evaluate machine learning models to predict stock prices.\n"
   ]
  },
  {
   "cell_type": "code",
   "execution_count": 46,
   "metadata": {},
   "outputs": [],
   "source": [
    "# Import libraries\n",
    "import numpy as np \n",
    "import seaborn as sns \n",
    "import matplotlib.pyplot as plt\n",
    "import pandas as pd\n",
    "from sklearn.model_selection import train_test_split\n",
    "from sklearn.metrics import mean_squared_error, mean_absolute_error, r2_score\n",
    "from sklearn.metrics import accuracy_score, precision_score, recall_score, f1_score\n",
    "from sklearn.linear_model import LinearRegression\n",
    "from sklearn.tree import DecisionTreeRegressor\n",
    "from sklearn.ensemble import RandomForestRegressor\n",
    "from sklearn.svm import SVR\n",
    "from sklearn.neighbors import KNeighborsRegressor\n",
    "import xgboost as xgb\n",
    "from sklearn.cluster import KMeans\n",
    "from sklearn.metrics import silhouette_score\n",
    "import pickle"
   ]
  },
  {
   "cell_type": "code",
   "execution_count": 47,
   "metadata": {},
   "outputs": [
    {
     "data": {
      "text/html": [
       "<div>\n",
       "<style scoped>\n",
       "    .dataframe tbody tr th:only-of-type {\n",
       "        vertical-align: middle;\n",
       "    }\n",
       "\n",
       "    .dataframe tbody tr th {\n",
       "        vertical-align: top;\n",
       "    }\n",
       "\n",
       "    .dataframe thead th {\n",
       "        text-align: right;\n",
       "    }\n",
       "</style>\n",
       "<table border=\"1\" class=\"dataframe\">\n",
       "  <thead>\n",
       "    <tr style=\"text-align: right;\">\n",
       "      <th></th>\n",
       "      <th>companyName</th>\n",
       "      <th>date</th>\n",
       "      <th>openingPrice</th>\n",
       "      <th>highestPrice</th>\n",
       "      <th>lowestPrice</th>\n",
       "      <th>closingPrice</th>\n",
       "      <th>volume</th>\n",
       "      <th>year</th>\n",
       "      <th>month</th>\n",
       "      <th>day_of_month</th>\n",
       "      <th>week_of_year</th>\n",
       "      <th>price_range</th>\n",
       "      <th>price_change</th>\n",
       "      <th>weekly_return</th>\n",
       "      <th>log_volume</th>\n",
       "      <th>moving_avg_4</th>\n",
       "      <th>ema_4</th>\n",
       "      <th>volatility_4</th>\n",
       "    </tr>\n",
       "  </thead>\n",
       "  <tbody>\n",
       "    <tr>\n",
       "      <th>0</th>\n",
       "      <td>AMEN BANK</td>\n",
       "      <td>2014-06-16</td>\n",
       "      <td>-0.104873</td>\n",
       "      <td>-0.105238</td>\n",
       "      <td>-0.105602</td>\n",
       "      <td>-0.105532</td>\n",
       "      <td>-0.111736</td>\n",
       "      <td>2014</td>\n",
       "      <td>6</td>\n",
       "      <td>16</td>\n",
       "      <td>25</td>\n",
       "      <td>-0.069502</td>\n",
       "      <td>-0.067207</td>\n",
       "      <td>-0.608059</td>\n",
       "      <td>-0.506038</td>\n",
       "      <td>-0.134304</td>\n",
       "      <td>-0.105530</td>\n",
       "      <td>-0.129781</td>\n",
       "    </tr>\n",
       "    <tr>\n",
       "      <th>1</th>\n",
       "      <td>AMEN BANK</td>\n",
       "      <td>2014-06-23</td>\n",
       "      <td>-0.105491</td>\n",
       "      <td>-0.105851</td>\n",
       "      <td>-0.106085</td>\n",
       "      <td>-0.106023</td>\n",
       "      <td>-0.105668</td>\n",
       "      <td>2014</td>\n",
       "      <td>6</td>\n",
       "      <td>23</td>\n",
       "      <td>26</td>\n",
       "      <td>-0.077417</td>\n",
       "      <td>-0.056514</td>\n",
       "      <td>-0.504264</td>\n",
       "      <td>0.336594</td>\n",
       "      <td>-0.134304</td>\n",
       "      <td>-0.105727</td>\n",
       "      <td>-0.129781</td>\n",
       "    </tr>\n",
       "    <tr>\n",
       "      <th>2</th>\n",
       "      <td>AMEN BANK</td>\n",
       "      <td>2014-06-30</td>\n",
       "      <td>-0.105983</td>\n",
       "      <td>-0.106064</td>\n",
       "      <td>-0.106466</td>\n",
       "      <td>-0.106136</td>\n",
       "      <td>-0.099024</td>\n",
       "      <td>2014</td>\n",
       "      <td>6</td>\n",
       "      <td>30</td>\n",
       "      <td>27</td>\n",
       "      <td>-0.068063</td>\n",
       "      <td>-0.024434</td>\n",
       "      <td>-0.159442</td>\n",
       "      <td>0.583623</td>\n",
       "      <td>-0.134304</td>\n",
       "      <td>-0.105891</td>\n",
       "      <td>-0.129781</td>\n",
       "    </tr>\n",
       "    <tr>\n",
       "      <th>3</th>\n",
       "      <td>AMEN BANK</td>\n",
       "      <td>2014-07-07</td>\n",
       "      <td>-0.105983</td>\n",
       "      <td>-0.105814</td>\n",
       "      <td>-0.106708</td>\n",
       "      <td>-0.106036</td>\n",
       "      <td>-0.111046</td>\n",
       "      <td>2014</td>\n",
       "      <td>7</td>\n",
       "      <td>7</td>\n",
       "      <td>28</td>\n",
       "      <td>-0.039998</td>\n",
       "      <td>-0.015879</td>\n",
       "      <td>-0.065430</td>\n",
       "      <td>-0.243828</td>\n",
       "      <td>-0.105453</td>\n",
       "      <td>-0.105948</td>\n",
       "      <td>-0.106254</td>\n",
       "    </tr>\n",
       "    <tr>\n",
       "      <th>4</th>\n",
       "      <td>AMEN BANK</td>\n",
       "      <td>2014-07-14</td>\n",
       "      <td>-0.105870</td>\n",
       "      <td>-0.105826</td>\n",
       "      <td>-0.105818</td>\n",
       "      <td>-0.106023</td>\n",
       "      <td>-0.110070</td>\n",
       "      <td>2014</td>\n",
       "      <td>7</td>\n",
       "      <td>14</td>\n",
       "      <td>29</td>\n",
       "      <td>-0.091090</td>\n",
       "      <td>-0.024434</td>\n",
       "      <td>-0.159025</td>\n",
       "      <td>-0.046500</td>\n",
       "      <td>-0.105576</td>\n",
       "      <td>-0.105978</td>\n",
       "      <td>-0.125022</td>\n",
       "    </tr>\n",
       "  </tbody>\n",
       "</table>\n",
       "</div>"
      ],
      "text/plain": [
       "  companyName        date  openingPrice  highestPrice  lowestPrice  \\\n",
       "0   AMEN BANK  2014-06-16     -0.104873     -0.105238    -0.105602   \n",
       "1   AMEN BANK  2014-06-23     -0.105491     -0.105851    -0.106085   \n",
       "2   AMEN BANK  2014-06-30     -0.105983     -0.106064    -0.106466   \n",
       "3   AMEN BANK  2014-07-07     -0.105983     -0.105814    -0.106708   \n",
       "4   AMEN BANK  2014-07-14     -0.105870     -0.105826    -0.105818   \n",
       "\n",
       "   closingPrice    volume  year  month  day_of_month  week_of_year  \\\n",
       "0     -0.105532 -0.111736  2014      6            16            25   \n",
       "1     -0.106023 -0.105668  2014      6            23            26   \n",
       "2     -0.106136 -0.099024  2014      6            30            27   \n",
       "3     -0.106036 -0.111046  2014      7             7            28   \n",
       "4     -0.106023 -0.110070  2014      7            14            29   \n",
       "\n",
       "   price_range  price_change  weekly_return  log_volume  moving_avg_4  \\\n",
       "0    -0.069502     -0.067207      -0.608059   -0.506038     -0.134304   \n",
       "1    -0.077417     -0.056514      -0.504264    0.336594     -0.134304   \n",
       "2    -0.068063     -0.024434      -0.159442    0.583623     -0.134304   \n",
       "3    -0.039998     -0.015879      -0.065430   -0.243828     -0.105453   \n",
       "4    -0.091090     -0.024434      -0.159025   -0.046500     -0.105576   \n",
       "\n",
       "      ema_4  volatility_4  \n",
       "0 -0.105530     -0.129781  \n",
       "1 -0.105727     -0.129781  \n",
       "2 -0.105891     -0.129781  \n",
       "3 -0.105948     -0.106254  \n",
       "4 -0.105978     -0.125022  "
      ]
     },
     "execution_count": 47,
     "metadata": {},
     "output_type": "execute_result"
    }
   ],
   "source": [
    "# Load Dataset\n",
    "data= pd.read_csv('./data/engineered_weekly_stock_market.csv')\n",
    "\n",
    "data.head()"
   ]
  },
  {
   "cell_type": "code",
   "execution_count": 48,
   "metadata": {},
   "outputs": [
    {
     "name": "stdout",
     "output_type": "stream",
     "text": [
      "(30903, 15) (7726, 15) (30903,) (7726,)\n"
     ]
    }
   ],
   "source": [
    "# Define features and target variable\n",
    "X = data.drop(columns=['closingPrice','companyName','date'])\n",
    "y = data['closingPrice']\n",
    "\n",
    "# Convert closing price to categorical for classification metrics (binary classification)\n",
    "threshold = y.median()\n",
    "y_class = (y > threshold).astype(int)\n",
    "\n",
    "# Split data into training and testing sets\n",
    "X_train, X_test, y_train, y_test = train_test_split(X, y, test_size=0.2, random_state=42)\n",
    "X_train_class, y_test_class = train_test_split(y_class, test_size=0.2, random_state=42)\n",
    "\n",
    "print(X_train.shape, X_test.shape, y_train.shape, y_test.shape)"
   ]
  },
  {
   "cell_type": "code",
   "execution_count": 49,
   "metadata": {},
   "outputs": [],
   "source": [
    "# Define models\n",
    "models = {\n",
    "    \"Linear Regression\": LinearRegression(),\n",
    "    \"Decision Tree\": DecisionTreeRegressor(random_state=42),\n",
    "    \"Random Forest\": RandomForestRegressor(random_state=42),\n",
    "    \"Support Vector Machine\": SVR(),\n",
    "    \"K-Nearest Neighbors\": KNeighborsRegressor(),\n",
    "    \"XGBoost\": xgb.XGBRegressor(random_state=42)\n",
    "}"
   ]
  },
  {
   "cell_type": "code",
   "execution_count": 50,
   "metadata": {},
   "outputs": [],
   "source": [
    "# Training function \n",
    "def train_model(model,X_train,y_train):\n",
    "    model.fit(X_train,y_train)\n",
    "    return model"
   ]
  },
  {
   "cell_type": "code",
   "execution_count": 51,
   "metadata": {},
   "outputs": [],
   "source": [
    "# Evaluation function \n",
    "def evaluate_model(model,X_test,y_test,y_test_class,threshold):\n",
    "    y_pred = model.predict(X_test)\n",
    "    mse = mean_squared_error(y_test,y_pred)\n",
    "    mae = mean_absolute_error(y_test,y_pred)\n",
    "    r2 = r2_score(y_test,y_pred)\n",
    "\n",
    "    y_pred_class = (y_pred > threshold).astype(int)\n",
    "    \n",
    "    accuracy = accuracy_score(y_test_class,y_pred_class)\n",
    "    precision = precision_score(y_test_class,y_pred_class)\n",
    "    recall = recall_score(y_test_class,y_pred_class)\n",
    "    f1 = f1_score(y_test_class,y_pred_class)\n",
    "\n",
    "    return mse, mae, r2, accuracy, precision, recall, f1"
   ]
  },
  {
   "cell_type": "code",
   "execution_count": 52,
   "metadata": {},
   "outputs": [
    {
     "name": "stdout",
     "output_type": "stream",
     "text": [
      "Results for Linear Regression:\n",
      "MSE: 1.115710831460351e-29\n",
      "MAE: 2.1102806818856855e-15\n",
      "R2: 1.0\n",
      "Accuracy: 0.9997411338338079\n",
      "Precision: 0.9994818652849741\n",
      "Recall: 1.0\n",
      "F1 Score: 0.9997408655091993\n",
      "\n",
      "Results for Decision Tree:\n",
      "MSE: 8.678039829717652e-05\n",
      "MAE: 0.0008825566523249879\n",
      "R2: 0.9999141352289785\n",
      "Accuracy: 0.9976702045042712\n",
      "Precision: 0.9979253112033195\n",
      "Recall: 0.9974079834110938\n",
      "F1 Score: 0.9976665802437127\n",
      "\n",
      "Results for Random Forest:\n",
      "MSE: 4.876320357515196e-05\n",
      "MAE: 0.0006495686210423754\n",
      "R2: 0.999951751301084\n",
      "Accuracy: 0.9985762360859436\n",
      "Precision: 0.9987036556909515\n",
      "Recall: 0.9984447900466563\n",
      "F1 Score: 0.9985742060920285\n",
      "\n",
      "Results for Support Vector Machine:\n",
      "MSE: 0.985154188869776\n",
      "MAE: 0.19930458003813886\n",
      "R2: 0.025240255772834064\n",
      "Accuracy: 0.4993528345845198\n",
      "Precision: 0.4993528345845198\n",
      "Recall: 1.0\n",
      "F1 Score: 0.6660911602209945\n",
      "\n",
      "Results for K-Nearest Neighbors:\n",
      "MSE: 0.0110783582468156\n",
      "MAE: 0.025366883998188445\n",
      "R2: 0.989038530442111\n",
      "Accuracy: 0.5392182241781\n",
      "Precision: 0.5272494513533285\n",
      "Recall: 0.7472783825816485\n",
      "F1 Score: 0.618271499034956\n",
      "\n",
      "Results for XGBoost:\n",
      "MSE: 0.0061963188507133515\n",
      "MAE: 0.0030171688214000294\n",
      "R2: 0.9938690590302411\n",
      "Accuracy: 0.9908102511001812\n",
      "Precision: 0.982174688057041\n",
      "Recall: 0.9997407983411094\n",
      "F1 Score: 0.9908798972382787\n",
      "\n"
     ]
    }
   ],
   "source": [
    "evaluation_results = {}\n",
    "\n",
    "for model_name, model in models.items():\n",
    "    trained_model = train_model(model, X_train, y_train)\n",
    "    \n",
    "    mse, mae, r2, accuracy, precision, recall, f1 = evaluate_model(trained_model, X_test, y_test, y_test_class, threshold)\n",
    "\n",
    "    evaluation_results[model_name] = {\n",
    "        \"MSE\": mse,\n",
    "        \"MAE\": mae,\n",
    "        \"R2\": r2,\n",
    "        \"Accuracy\": accuracy,\n",
    "        \"Precision\": precision,\n",
    "        \"Recall\": recall,\n",
    "        \"F1 Score\": f1\n",
    "    }\n",
    "\n",
    "# Print the results\n",
    "for model_name, metrics in evaluation_results.items():\n",
    "    print(f\"Results for {model_name}:\")\n",
    "    for metric_name, metric_value in metrics.items():\n",
    "        print(f\"{metric_name}: {metric_value}\")\n",
    "    print() "
   ]
  },
  {
   "cell_type": "markdown",
   "metadata": {},
   "source": [
    "### Summary from worst to best:\n",
    "\n",
    "- Support Vector Machine\n",
    "- K-Nearest Neighbors\n",
    "- Decision Tree\n",
    "- Random Forest\n",
    "- XGBoost\n",
    "- Linear Regression"
   ]
  },
  {
   "cell_type": "code",
   "execution_count": 53,
   "metadata": {},
   "outputs": [
    {
     "name": "stdout",
     "output_type": "stream",
     "text": [
      "Cluster Centers:\n",
      "[[-3.06239465e-03 -3.24562974e-03 -3.10478923e-03 -7.89211650e-03\n",
      "   2.01806688e+03  9.39355068e+00  1.59191299e+01  3.95252244e+01\n",
      "  -1.07553692e-02 -1.96475033e-02 -1.19710114e-02 -1.56484327e-02\n",
      "  -2.76161206e-03 -2.98446359e-03 -1.49696573e-02]\n",
      " [ 3.19473235e-03  3.38588572e-03  3.23895895e-03  8.23316480e-03\n",
      "   2.01888681e+03  3.58023908e+00  1.55544801e+01  1.34665715e+01\n",
      "   1.12201496e-02  2.04965464e-02  1.24883242e-02  1.63246609e-02\n",
      "   2.88095180e-03  3.11343359e-03  1.56165530e-02]]\n"
     ]
    }
   ],
   "source": [
    "#K-Means Clustering\n",
    "kmeans = KMeans(n_clusters=2, random_state=42)\n",
    "kmeans.fit(X)\n",
    "\n",
    "# Adding cluster information to the dataframe\n",
    "data['cluster'] = kmeans.labels_\n",
    "\n",
    "# Print cluster centers\n",
    "print(\"Cluster Centers:\")\n",
    "print(kmeans.cluster_centers_)"
   ]
  },
  {
   "cell_type": "code",
   "execution_count": 54,
   "metadata": {},
   "outputs": [
    {
     "data": {
      "image/png": "[encoded data removed]",
      "text/plain": [
       "<Figure size 1000x600 with 1 Axes>"
      ]
     },
     "metadata": {},
     "output_type": "display_data"
    }
   ],
   "source": [
    "# Visualization\n",
    "plt.figure(figsize=(10, 6))\n",
    "sns.scatterplot(x=data['openingPrice'], y=data['closingPrice'], hue=data['cluster'], palette='viridis')\n",
    "plt.title('Cluster Visualization')\n",
    "plt.xlabel('Opening Price')\n",
    "plt.ylabel('Closing Price')\n",
    "plt.show()\n"
   ]
  },
  {
   "cell_type": "markdown",
   "metadata": {},
   "source": [
    "## We will use the Linear Regression and XGBoost models to predict stock prices."
   ]
  },
  {
   "cell_type": "code",
   "execution_count": 55,
   "metadata": {},
   "outputs": [
    {
     "name": "stdout",
     "output_type": "stream",
     "text": [
      "(30903, 4) (7726, 4) (30903,) (7726,)\n"
     ]
    }
   ],
   "source": [
    "# Select only the desired features\n",
    "X = data[['openingPrice', 'highestPrice', 'lowestPrice', 'volume']]\n",
    "y = data['closingPrice']\n",
    "\n",
    "# Convert closing price to categorical for classification metrics (binary classification)\n",
    "threshold = y.median()\n",
    "y_class = (y > threshold).astype(int)\n",
    "\n",
    "# Split data into training and testing sets\n",
    "X_train, X_test, y_train, y_test = train_test_split(X, y, test_size=0.2, random_state=42)\n",
    "X_train_class, X_test_class, y_train_class, y_test_class = train_test_split(X, y_class, test_size=0.2, random_state=42)\n",
    "\n",
    "print(X_train.shape, X_test.shape, y_train.shape, y_test.shape)"
   ]
  },
  {
   "cell_type": "code",
   "execution_count": 56,
   "metadata": {},
   "outputs": [],
   "source": [
    "final_models = {\"Linear Regression Final\": LinearRegression(),\n",
    "          \"XGBoost\": xgb.XGBRegressor(random_state=42)\n",
    "}"
   ]
  },
  {
   "cell_type": "code",
   "execution_count": 57,
   "metadata": {},
   "outputs": [
    {
     "name": "stdout",
     "output_type": "stream",
     "text": [
      "Results for Linear Regression Final:\n",
      "MSE: 1.5829278757696878e-05\n",
      "MAE: 0.0004933945659036562\n",
      "R2: 0.9999843377372928\n",
      "Accuracy: 0.9961170075071188\n",
      "Precision: 0.9963692946058091\n",
      "Recall: 0.9958527734577501\n",
      "F1 Score: 0.9961109670728545\n",
      "\n",
      "Results for XGBoost:\n",
      "MSE: 0.008859537963743684\n",
      "MAE: 0.006149215203990414\n",
      "R2: 0.9912339397658987\n",
      "Accuracy: 0.9914574165156614\n",
      "Precision: 0.9836734693877551\n",
      "Recall: 0.9994815966822188\n",
      "F1 Score: 0.9915145281563383\n",
      "\n"
     ]
    }
   ],
   "source": [
    "evaluation_results = {}\n",
    "\n",
    "for model_name, model in final_models.items():\n",
    "    trained_model = train_model(model, X_train, y_train)\n",
    "    \n",
    "    mse, mae, r2, accuracy, precision, recall, f1 = evaluate_model(trained_model, X_test, y_test, y_test_class, threshold)\n",
    "\n",
    "    evaluation_results[model_name] = {\n",
    "        \"MSE\": mse,\n",
    "        \"MAE\": mae,\n",
    "        \"R2\": r2,\n",
    "        \"Accuracy\": accuracy,\n",
    "        \"Precision\": precision,\n",
    "        \"Recall\": recall,\n",
    "        \"F1 Score\": f1\n",
    "    }\n",
    "\n",
    "# Print the results\n",
    "for model_name, metrics in evaluation_results.items():\n",
    "    print(f\"Results for {model_name}:\")\n",
    "    for metric_name, metric_value in metrics.items():\n",
    "        print(f\"{metric_name}: {metric_value}\")\n",
    "    print() "
   ]
  },
  {
   "cell_type": "markdown",
   "metadata": {},
   "source": [
    "**According to the results, the Linear Regression model is the best model to predict stock prices.**"
   ]
  },
  {
   "cell_type": "code",
   "execution_count": 58,
   "metadata": {},
   "outputs": [],
   "source": [
    "# Save and export the best model\n",
    "best_model = final_models[\"Linear Regression Final\"]\n",
    "pickle.dump(best_model, open('../backend/model.pkl', 'wb'))"
   ]
  }
 ],
 "metadata": {
  "kernelspec": {
   "display_name": "Python 3",
   "language": "python",
   "name": "python3"
  },
  "language_info": {
   "codemirror_mode": {
    "name": "ipython",
    "version": 3
   },
   "file_extension": ".py",
   "mimetype": "text/x-python",
   "name": "python",
   "nbconvert_exporter": "python",
   "pygments_lexer": "ipython3",
   "version": "3.11.7"
  }
 },
 "nbformat": 4,
 "nbformat_minor": 2
}
