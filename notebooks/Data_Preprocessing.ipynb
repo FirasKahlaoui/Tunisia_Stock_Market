{
 "cells": [
  {
   "cell_type": "markdown",
   "metadata": {},
   "source": [
    "# Data Preprocessing\n",
    "\n",
    "In this notebook, we will load the Tunisian stock market data, clean it, and prepare it for further analysis and modeling.\n"
   ]
  },
  {
   "cell_type": "markdown",
   "metadata": {},
   "source": [
    "### 1.1 Loading the Data\n",
    "**First, we will load the data from the CSV file and take a look at its structure.**"
   ]
  },
  {
   "cell_type": "code",
   "execution_count": 12,
   "metadata": {},
   "outputs": [],
   "source": [
    "# Import the necessary libraries\n",
    "import pandas as pd\n",
    "from sklearn.preprocessing import MinMaxScaler\n"
   ]
  },
  {
   "cell_type": "code",
   "execution_count": 13,
   "metadata": {},
   "outputs": [
    {
     "data": {
      "text/html": [
       "<div>\n",
       "<style scoped>\n",
       "    .dataframe tbody tr th:only-of-type {\n",
       "        vertical-align: middle;\n",
       "    }\n",
       "\n",
       "    .dataframe tbody tr th {\n",
       "        vertical-align: top;\n",
       "    }\n",
       "\n",
       "    .dataframe thead th {\n",
       "        text-align: right;\n",
       "    }\n",
       "</style>\n",
       "<table border=\"1\" class=\"dataframe\">\n",
       "  <thead>\n",
       "    <tr style=\"text-align: right;\">\n",
       "      <th></th>\n",
       "      <th>companyName</th>\n",
       "      <th>date</th>\n",
       "      <th>openingPrice</th>\n",
       "      <th>highestPrice</th>\n",
       "      <th>lowestPrice</th>\n",
       "      <th>closingPrice</th>\n",
       "      <th>volume</th>\n",
       "    </tr>\n",
       "  </thead>\n",
       "  <tbody>\n",
       "    <tr>\n",
       "      <th>0</th>\n",
       "      <td>SOTUMAG</td>\n",
       "      <td>16/06/2014</td>\n",
       "      <td>1.76</td>\n",
       "      <td>1.80</td>\n",
       "      <td>1.73</td>\n",
       "      <td>1.73</td>\n",
       "      <td>44315</td>\n",
       "    </tr>\n",
       "    <tr>\n",
       "      <th>1</th>\n",
       "      <td>SOTUMAG</td>\n",
       "      <td>23/06/2014</td>\n",
       "      <td>1.78</td>\n",
       "      <td>1.82</td>\n",
       "      <td>1.77</td>\n",
       "      <td>1.82</td>\n",
       "      <td>9551</td>\n",
       "    </tr>\n",
       "    <tr>\n",
       "      <th>2</th>\n",
       "      <td>SOTUMAG</td>\n",
       "      <td>30/06/2014</td>\n",
       "      <td>1.81</td>\n",
       "      <td>1.82</td>\n",
       "      <td>1.81</td>\n",
       "      <td>1.81</td>\n",
       "      <td>2401</td>\n",
       "    </tr>\n",
       "    <tr>\n",
       "      <th>3</th>\n",
       "      <td>SOTUMAG</td>\n",
       "      <td>07/07/2014</td>\n",
       "      <td>1.78</td>\n",
       "      <td>1.82</td>\n",
       "      <td>1.78</td>\n",
       "      <td>1.80</td>\n",
       "      <td>10341</td>\n",
       "    </tr>\n",
       "    <tr>\n",
       "      <th>4</th>\n",
       "      <td>SOTUMAG</td>\n",
       "      <td>14/07/2014</td>\n",
       "      <td>1.83</td>\n",
       "      <td>1.83</td>\n",
       "      <td>1.76</td>\n",
       "      <td>1.81</td>\n",
       "      <td>27480</td>\n",
       "    </tr>\n",
       "  </tbody>\n",
       "</table>\n",
       "</div>"
      ],
      "text/plain": [
       "  companyName        date  openingPrice  highestPrice  lowestPrice  \\\n",
       "0     SOTUMAG  16/06/2014          1.76          1.80         1.73   \n",
       "1     SOTUMAG  23/06/2014          1.78          1.82         1.77   \n",
       "2     SOTUMAG  30/06/2014          1.81          1.82         1.81   \n",
       "3     SOTUMAG  07/07/2014          1.78          1.82         1.78   \n",
       "4     SOTUMAG  14/07/2014          1.83          1.83         1.76   \n",
       "\n",
       "   closingPrice  volume  \n",
       "0          1.73   44315  \n",
       "1          1.82    9551  \n",
       "2          1.81    2401  \n",
       "3          1.80   10341  \n",
       "4          1.81   27480  "
      ]
     },
     "execution_count": 13,
     "metadata": {},
     "output_type": "execute_result"
    }
   ],
   "source": [
    "# Load the data\n",
    "data = pd.read_csv('./data/checked_weekly_stock_market.csv')\n",
    "\n",
    "# Display the first few rows of the dataframe\n",
    "data.head()"
   ]
  },
  {
   "cell_type": "markdown",
   "metadata": {},
   "source": [
    "### 1.2 Handling Missing Values\n",
    "**We'll check for missing values and handle them appropriately.**"
   ]
  },
  {
   "cell_type": "code",
   "execution_count": 14,
   "metadata": {},
   "outputs": [
    {
     "name": "stdout",
     "output_type": "stream",
     "text": [
      "companyName     0\n",
      "date            0\n",
      "openingPrice    0\n",
      "highestPrice    0\n",
      "lowestPrice     0\n",
      "closingPrice    0\n",
      "volume          0\n",
      "dtype: int64\n"
     ]
    }
   ],
   "source": [
    "# Check for missing values\n",
    "missing_values = data.isnull().sum()\n",
    "print(missing_values)"
   ]
  },
  {
   "cell_type": "markdown",
   "metadata": {},
   "source": [
    "*No Missing Values*\n",
    "- companyName: 0 missing values\n",
    "- date: 0 missing values\n",
    "- openingPrice: 0 missing values\n",
    "- highestPrice: 0 missing values\n",
    "- lowestPrice: 0 missing values\n",
    "- closingPrice: 0 missing values\n",
    "- volume: 0 missing values"
   ]
  },
  {
   "cell_type": "markdown",
   "metadata": {},
   "source": [
    "### 1.3 Data Type Conversion\n",
    "**Ensure that the date column is of the correct data type and other columns are correctly typed.**"
   ]
  },
  {
   "cell_type": "code",
   "execution_count": 15,
   "metadata": {},
   "outputs": [
    {
     "data": {
      "text/plain": [
       "companyName             object\n",
       "date            datetime64[ns]\n",
       "openingPrice           float64\n",
       "highestPrice           float64\n",
       "lowestPrice            float64\n",
       "closingPrice           float64\n",
       "volume                 float64\n",
       "dtype: object"
      ]
     },
     "execution_count": 15,
     "metadata": {},
     "output_type": "execute_result"
    }
   ],
   "source": [
    "# Convert 'date' column to datetime format\n",
    "data['date'] = pd.to_datetime(data['date'], format='%d/%m/%Y')\n",
    "\n",
    "# Ensure numeric columns are of type float\n",
    "numeric_columns = ['openingPrice', 'highestPrice', 'lowestPrice', 'closingPrice', 'volume']\n",
    "data[numeric_columns] = data[numeric_columns].astype(float)\n",
    "\n",
    "# Display the data types\n",
    "data.dtypes"
   ]
  },
  {
   "cell_type": "markdown",
   "metadata": {},
   "source": [
    "### 1.4 Handling Duplicates\n",
    "**Check for and handle any duplicate rows.**"
   ]
  },
  {
   "cell_type": "code",
   "execution_count": 16,
   "metadata": {},
   "outputs": [
    {
     "name": "stdout",
     "output_type": "stream",
     "text": [
      "Duplicates: 0\n"
     ]
    }
   ],
   "source": [
    "# Check for duplicates\n",
    "duplicates = data.duplicated().sum()\n",
    "print(f'Duplicates: {duplicates}')\n",
    "\n",
    "# Drop duplicates if any\n",
    "data.drop_duplicates(inplace=True)"
   ]
  },
  {
   "cell_type": "markdown",
   "metadata": {},
   "source": [
    "*No Duplicated Rows*"
   ]
  },
  {
   "cell_type": "code",
   "execution_count": 17,
   "metadata": {},
   "outputs": [],
   "source": [
    "# Save the cleaned data\n",
    "data.to_csv('./data/cleaned_weekly_stock_market.csv', index=False)"
   ]
  },
  {
   "cell_type": "markdown",
   "metadata": {},
   "source": [
    "### 1.5 Data Normalization\n",
    "**Normalize numerical features.**"
   ]
  },
  {
   "cell_type": "code",
   "execution_count": 18,
   "metadata": {},
   "outputs": [
    {
     "data": {
      "text/html": [
       "<div>\n",
       "<style scoped>\n",
       "    .dataframe tbody tr th:only-of-type {\n",
       "        vertical-align: middle;\n",
       "    }\n",
       "\n",
       "    .dataframe tbody tr th {\n",
       "        vertical-align: top;\n",
       "    }\n",
       "\n",
       "    .dataframe thead th {\n",
       "        text-align: right;\n",
       "    }\n",
       "</style>\n",
       "<table border=\"1\" class=\"dataframe\">\n",
       "  <thead>\n",
       "    <tr style=\"text-align: right;\">\n",
       "      <th></th>\n",
       "      <th>companyName</th>\n",
       "      <th>date</th>\n",
       "      <th>openingPrice</th>\n",
       "      <th>highestPrice</th>\n",
       "      <th>lowestPrice</th>\n",
       "      <th>closingPrice</th>\n",
       "      <th>volume</th>\n",
       "    </tr>\n",
       "  </thead>\n",
       "  <tbody>\n",
       "    <tr>\n",
       "      <th>0</th>\n",
       "      <td>SOTUMAG</td>\n",
       "      <td>2014-06-16</td>\n",
       "      <td>0.000172</td>\n",
       "      <td>0.000175</td>\n",
       "      <td>0.000169</td>\n",
       "      <td>0.000168</td>\n",
       "      <td>0.000394</td>\n",
       "    </tr>\n",
       "    <tr>\n",
       "      <th>1</th>\n",
       "      <td>SOTUMAG</td>\n",
       "      <td>2014-06-23</td>\n",
       "      <td>0.000174</td>\n",
       "      <td>0.000177</td>\n",
       "      <td>0.000173</td>\n",
       "      <td>0.000177</td>\n",
       "      <td>0.000085</td>\n",
       "    </tr>\n",
       "    <tr>\n",
       "      <th>2</th>\n",
       "      <td>SOTUMAG</td>\n",
       "      <td>2014-06-30</td>\n",
       "      <td>0.000177</td>\n",
       "      <td>0.000177</td>\n",
       "      <td>0.000177</td>\n",
       "      <td>0.000176</td>\n",
       "      <td>0.000021</td>\n",
       "    </tr>\n",
       "    <tr>\n",
       "      <th>3</th>\n",
       "      <td>SOTUMAG</td>\n",
       "      <td>2014-07-07</td>\n",
       "      <td>0.000174</td>\n",
       "      <td>0.000177</td>\n",
       "      <td>0.000174</td>\n",
       "      <td>0.000175</td>\n",
       "      <td>0.000092</td>\n",
       "    </tr>\n",
       "    <tr>\n",
       "      <th>4</th>\n",
       "      <td>SOTUMAG</td>\n",
       "      <td>2014-07-14</td>\n",
       "      <td>0.000179</td>\n",
       "      <td>0.000178</td>\n",
       "      <td>0.000172</td>\n",
       "      <td>0.000176</td>\n",
       "      <td>0.000244</td>\n",
       "    </tr>\n",
       "  </tbody>\n",
       "</table>\n",
       "</div>"
      ],
      "text/plain": [
       "  companyName       date  openingPrice  highestPrice  lowestPrice  \\\n",
       "0     SOTUMAG 2014-06-16      0.000172      0.000175     0.000169   \n",
       "1     SOTUMAG 2014-06-23      0.000174      0.000177     0.000173   \n",
       "2     SOTUMAG 2014-06-30      0.000177      0.000177     0.000177   \n",
       "3     SOTUMAG 2014-07-07      0.000174      0.000177     0.000174   \n",
       "4     SOTUMAG 2014-07-14      0.000179      0.000178     0.000172   \n",
       "\n",
       "   closingPrice    volume  \n",
       "0      0.000168  0.000394  \n",
       "1      0.000177  0.000085  \n",
       "2      0.000176  0.000021  \n",
       "3      0.000175  0.000092  \n",
       "4      0.000176  0.000244  "
      ]
     },
     "execution_count": 18,
     "metadata": {},
     "output_type": "execute_result"
    }
   ],
   "source": [
    "scaler = MinMaxScaler()\n",
    "data[numeric_columns] = scaler.fit_transform(data[numeric_columns])\n",
    "\n",
    "# Display the first few rows of the dataframe after normalization\n",
    "data.head()"
   ]
  },
  {
   "cell_type": "code",
   "execution_count": 19,
   "metadata": {},
   "outputs": [],
   "source": [
    "# Save the cleaned data\n",
    "data.to_csv('./data/normalized_weekly_stock_market.csv', index=False)"
   ]
  }
 ],
 "metadata": {
  "kernelspec": {
   "display_name": "Python 3",
   "language": "python",
   "name": "python3"
  },
  "language_info": {
   "codemirror_mode": {
    "name": "ipython",
    "version": 3
   },
   "file_extension": ".py",
   "mimetype": "text/x-python",
   "name": "python",
   "nbconvert_exporter": "python",
   "pygments_lexer": "ipython3",
   "version": "3.11.7"
  }
 },
 "nbformat": 4,
 "nbformat_minor": 2
}
