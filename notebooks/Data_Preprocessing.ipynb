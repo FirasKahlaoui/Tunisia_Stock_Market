{
 "cells": [
  {
   "cell_type": "markdown",
   "metadata": {},
   "source": [
    "# Data Preprocessing\n",
    "\n",
    "In this notebook, we will load the Tunisian stock market data, clean it, and prepare it for further analysis and modeling.\n"
   ]
  },
  {
   "cell_type": "code",
   "execution_count": 1,
   "metadata": {},
   "outputs": [
    {
     "data": {
      "text/html": [
       "<div>\n",
       "<style scoped>\n",
       "    .dataframe tbody tr th:only-of-type {\n",
       "        vertical-align: middle;\n",
       "    }\n",
       "\n",
       "    .dataframe tbody tr th {\n",
       "        vertical-align: top;\n",
       "    }\n",
       "\n",
       "    .dataframe thead th {\n",
       "        text-align: right;\n",
       "    }\n",
       "</style>\n",
       "<table border=\"1\" class=\"dataframe\">\n",
       "  <thead>\n",
       "    <tr style=\"text-align: right;\">\n",
       "      <th></th>\n",
       "      <th>companyName</th>\n",
       "      <th>date</th>\n",
       "      <th>openingPrice</th>\n",
       "      <th>highestPrice</th>\n",
       "      <th>lowestPrice</th>\n",
       "      <th>closingPrice</th>\n",
       "      <th>volume</th>\n",
       "    </tr>\n",
       "  </thead>\n",
       "  <tbody>\n",
       "    <tr>\n",
       "      <th>0</th>\n",
       "      <td>SOTUMAG</td>\n",
       "      <td>16/06/2014</td>\n",
       "      <td>1.76</td>\n",
       "      <td>1.80</td>\n",
       "      <td>1.73</td>\n",
       "      <td>1.73</td>\n",
       "      <td>44315</td>\n",
       "    </tr>\n",
       "    <tr>\n",
       "      <th>1</th>\n",
       "      <td>SOTUMAG</td>\n",
       "      <td>23/06/2014</td>\n",
       "      <td>1.78</td>\n",
       "      <td>1.82</td>\n",
       "      <td>1.77</td>\n",
       "      <td>1.82</td>\n",
       "      <td>9551</td>\n",
       "    </tr>\n",
       "    <tr>\n",
       "      <th>2</th>\n",
       "      <td>SOTUMAG</td>\n",
       "      <td>30/06/2014</td>\n",
       "      <td>1.81</td>\n",
       "      <td>1.82</td>\n",
       "      <td>1.81</td>\n",
       "      <td>1.81</td>\n",
       "      <td>2401</td>\n",
       "    </tr>\n",
       "    <tr>\n",
       "      <th>3</th>\n",
       "      <td>SOTUMAG</td>\n",
       "      <td>07/07/2014</td>\n",
       "      <td>1.78</td>\n",
       "      <td>1.82</td>\n",
       "      <td>1.78</td>\n",
       "      <td>1.80</td>\n",
       "      <td>10341</td>\n",
       "    </tr>\n",
       "    <tr>\n",
       "      <th>4</th>\n",
       "      <td>SOTUMAG</td>\n",
       "      <td>14/07/2014</td>\n",
       "      <td>1.83</td>\n",
       "      <td>1.83</td>\n",
       "      <td>1.76</td>\n",
       "      <td>1.81</td>\n",
       "      <td>27480</td>\n",
       "    </tr>\n",
       "  </tbody>\n",
       "</table>\n",
       "</div>"
      ],
      "text/plain": [
       "  companyName        date  openingPrice  highestPrice  lowestPrice  \\\n",
       "0     SOTUMAG  16/06/2014          1.76          1.80         1.73   \n",
       "1     SOTUMAG  23/06/2014          1.78          1.82         1.77   \n",
       "2     SOTUMAG  30/06/2014          1.81          1.82         1.81   \n",
       "3     SOTUMAG  07/07/2014          1.78          1.82         1.78   \n",
       "4     SOTUMAG  14/07/2014          1.83          1.83         1.76   \n",
       "\n",
       "   closingPrice  volume  \n",
       "0          1.73   44315  \n",
       "1          1.82    9551  \n",
       "2          1.81    2401  \n",
       "3          1.80   10341  \n",
       "4          1.81   27480  "
      ]
     },
     "execution_count": 1,
     "metadata": {},
     "output_type": "execute_result"
    }
   ],
   "source": [
    "import pandas as pd\n",
    "\n",
    "# Load the data\n",
    "data = pd.read_csv('./data/cleaned_weekly_stock_market.csv')\n",
    "\n",
    "# Display the first few rows of the dataframe\n",
    "data.head()"
   ]
  }
 ],
 "metadata": {
  "kernelspec": {
   "display_name": "Python 3",
   "language": "python",
   "name": "python3"
  },
  "language_info": {
   "codemirror_mode": {
    "name": "ipython",
    "version": 3
   },
   "file_extension": ".py",
   "mimetype": "text/x-python",
   "name": "python",
   "nbconvert_exporter": "python",
   "pygments_lexer": "ipython3",
   "version": "3.11.7"
  }
 },
 "nbformat": 4,
 "nbformat_minor": 2
}
