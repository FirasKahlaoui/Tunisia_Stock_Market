{
 "cells": [
  {
   "cell_type": "markdown",
   "metadata": {},
   "source": [
    "# Data Preprocessing\n",
    "\n",
    "In this notebook, we will load the Tunisian stock market data, clean it, and prepare it for further analysis and modeling.\n"
   ]
  },
  {
   "cell_type": "markdown",
   "metadata": {},
   "source": [
    "### 1.1 Loading the Data\n",
    "**First, we will load the data from the CSV file and take a look at its structure.**"
   ]
  },
  {
   "cell_type": "code",
   "execution_count": 1,
   "metadata": {},
   "outputs": [],
   "source": [
    "# Import the necessary libraries\n",
    "import pandas as pd\n",
    "from sklearn.preprocessing import MinMaxScaler\n"
   ]
  },
  {
   "cell_type": "code",
   "execution_count": 2,
   "metadata": {},
   "outputs": [
    {
     "data": {
      "text/html": [
       "<div>\n",
       "<style scoped>\n",
       "    .dataframe tbody tr th:only-of-type {\n",
       "        vertical-align: middle;\n",
       "    }\n",
       "\n",
       "    .dataframe tbody tr th {\n",
       "        vertical-align: top;\n",
       "    }\n",
       "\n",
       "    .dataframe thead th {\n",
       "        text-align: right;\n",
       "    }\n",
       "</style>\n",
       "<table border=\"1\" class=\"dataframe\">\n",
       "  <thead>\n",
       "    <tr style=\"text-align: right;\">\n",
       "      <th></th>\n",
       "      <th>companyName</th>\n",
       "      <th>date</th>\n",
       "      <th>openingPrice</th>\n",
       "      <th>highestPrice</th>\n",
       "      <th>lowestPrice</th>\n",
       "      <th>closingPrice</th>\n",
       "      <th>volume</th>\n",
       "    </tr>\n",
       "  </thead>\n",
       "  <tbody>\n",
       "    <tr>\n",
       "      <th>0</th>\n",
       "      <td>AMEN BANK</td>\n",
       "      <td>16/06/2014</td>\n",
       "      <td>23.63</td>\n",
       "      <td>23.63</td>\n",
       "      <td>22.75</td>\n",
       "      <td>23.14</td>\n",
       "      <td>1608</td>\n",
       "    </tr>\n",
       "    <tr>\n",
       "      <th>1</th>\n",
       "      <td>AMEN BANK</td>\n",
       "      <td>23/06/2014</td>\n",
       "      <td>23.14</td>\n",
       "      <td>23.14</td>\n",
       "      <td>22.37</td>\n",
       "      <td>22.75</td>\n",
       "      <td>16837</td>\n",
       "    </tr>\n",
       "    <tr>\n",
       "      <th>2</th>\n",
       "      <td>AMEN BANK</td>\n",
       "      <td>30/06/2014</td>\n",
       "      <td>22.75</td>\n",
       "      <td>22.97</td>\n",
       "      <td>22.07</td>\n",
       "      <td>22.66</td>\n",
       "      <td>33514</td>\n",
       "    </tr>\n",
       "    <tr>\n",
       "      <th>3</th>\n",
       "      <td>AMEN BANK</td>\n",
       "      <td>07/07/2014</td>\n",
       "      <td>22.75</td>\n",
       "      <td>23.17</td>\n",
       "      <td>21.88</td>\n",
       "      <td>22.74</td>\n",
       "      <td>3340</td>\n",
       "    </tr>\n",
       "    <tr>\n",
       "      <th>4</th>\n",
       "      <td>AMEN BANK</td>\n",
       "      <td>14/07/2014</td>\n",
       "      <td>22.84</td>\n",
       "      <td>23.16</td>\n",
       "      <td>22.58</td>\n",
       "      <td>22.75</td>\n",
       "      <td>5789</td>\n",
       "    </tr>\n",
       "  </tbody>\n",
       "</table>\n",
       "</div>"
      ],
      "text/plain": [
       "  companyName        date  openingPrice  highestPrice  lowestPrice  \\\n",
       "0   AMEN BANK  16/06/2014         23.63         23.63        22.75   \n",
       "1   AMEN BANK  23/06/2014         23.14         23.14        22.37   \n",
       "2   AMEN BANK  30/06/2014         22.75         22.97        22.07   \n",
       "3   AMEN BANK  07/07/2014         22.75         23.17        21.88   \n",
       "4   AMEN BANK  14/07/2014         22.84         23.16        22.58   \n",
       "\n",
       "   closingPrice  volume  \n",
       "0         23.14    1608  \n",
       "1         22.75   16837  \n",
       "2         22.66   33514  \n",
       "3         22.74    3340  \n",
       "4         22.75    5789  "
      ]
     },
     "execution_count": 2,
     "metadata": {},
     "output_type": "execute_result"
    }
   ],
   "source": [
    "# Load the data\n",
    "data = pd.read_csv('./data/checked_weekly_stock_market.csv')\n",
    "\n",
    "# Display the first few rows of the dataframe\n",
    "data.head()"
   ]
  },
  {
   "cell_type": "markdown",
   "metadata": {},
   "source": [
    "### 1.2 Handling Missing Values\n",
    "**We'll check for missing values and handle them appropriately.**"
   ]
  },
  {
   "cell_type": "code",
   "execution_count": 3,
   "metadata": {},
   "outputs": [
    {
     "name": "stdout",
     "output_type": "stream",
     "text": [
      "companyName     0\n",
      "date            0\n",
      "openingPrice    0\n",
      "highestPrice    0\n",
      "lowestPrice     0\n",
      "closingPrice    0\n",
      "volume          0\n",
      "dtype: int64\n"
     ]
    }
   ],
   "source": [
    "# Check for missing values\n",
    "missing_values = data.isnull().sum()\n",
    "print(missing_values)"
   ]
  },
  {
   "cell_type": "markdown",
   "metadata": {},
   "source": [
    "*No Missing Values*\n",
    "- companyName: 0 missing values\n",
    "- date: 0 missing values\n",
    "- openingPrice: 0 missing values\n",
    "- highestPrice: 0 missing values\n",
    "- lowestPrice: 0 missing values\n",
    "- closingPrice: 0 missing values\n",
    "- volume: 0 missing values"
   ]
  },
  {
   "cell_type": "markdown",
   "metadata": {},
   "source": [
    "### 1.3 Data Type Conversion\n",
    "**Ensure that the date column is of the correct data type and other columns are correctly typed.**"
   ]
  },
  {
   "cell_type": "code",
   "execution_count": 4,
   "metadata": {},
   "outputs": [
    {
     "data": {
      "text/plain": [
       "companyName             object\n",
       "date            datetime64[ns]\n",
       "openingPrice           float64\n",
       "highestPrice           float64\n",
       "lowestPrice            float64\n",
       "closingPrice           float64\n",
       "volume                 float64\n",
       "dtype: object"
      ]
     },
     "execution_count": 4,
     "metadata": {},
     "output_type": "execute_result"
    }
   ],
   "source": [
    "# Convert 'date' column to datetime format\n",
    "data['date'] = pd.to_datetime(data['date'], format='%d/%m/%Y')\n",
    "\n",
    "# Ensure numeric columns are of type float\n",
    "numeric_columns = ['openingPrice', 'highestPrice', 'lowestPrice', 'closingPrice', 'volume']\n",
    "data[numeric_columns] = data[numeric_columns].astype(float)\n",
    "\n",
    "# Display the data types\n",
    "data.dtypes"
   ]
  },
  {
   "cell_type": "markdown",
   "metadata": {},
   "source": [
    "### 1.4 Handling Duplicates\n",
    "**Check for and handle any duplicate rows.**"
   ]
  },
  {
   "cell_type": "code",
   "execution_count": 5,
   "metadata": {},
   "outputs": [
    {
     "name": "stdout",
     "output_type": "stream",
     "text": [
      "Duplicates: 0\n"
     ]
    }
   ],
   "source": [
    "# Check for duplicates\n",
    "duplicates = data.duplicated().sum()\n",
    "print(f'Duplicates: {duplicates}')\n",
    "\n",
    "# Drop duplicates if any\n",
    "data.drop_duplicates(inplace=True)"
   ]
  },
  {
   "cell_type": "markdown",
   "metadata": {},
   "source": [
    "*No Duplicated Rows*"
   ]
  },
  {
   "cell_type": "code",
   "execution_count": 6,
   "metadata": {},
   "outputs": [],
   "source": [
    "# Save the cleaned data\n",
    "data.to_csv('./data/cleaned_weekly_stock_market.csv', index=False)"
   ]
  },
  {
   "cell_type": "markdown",
   "metadata": {},
   "source": [
    "### 1.5 Data Normalization\n",
    "**Normalize numerical features.**"
   ]
  },
  {
   "cell_type": "code",
   "execution_count": 7,
   "metadata": {},
   "outputs": [
    {
     "data": {
      "text/html": [
       "<div>\n",
       "<style scoped>\n",
       "    .dataframe tbody tr th:only-of-type {\n",
       "        vertical-align: middle;\n",
       "    }\n",
       "\n",
       "    .dataframe tbody tr th {\n",
       "        vertical-align: top;\n",
       "    }\n",
       "\n",
       "    .dataframe thead th {\n",
       "        text-align: right;\n",
       "    }\n",
       "</style>\n",
       "<table border=\"1\" class=\"dataframe\">\n",
       "  <thead>\n",
       "    <tr style=\"text-align: right;\">\n",
       "      <th></th>\n",
       "      <th>companyName</th>\n",
       "      <th>date</th>\n",
       "      <th>openingPrice</th>\n",
       "      <th>highestPrice</th>\n",
       "      <th>lowestPrice</th>\n",
       "      <th>closingPrice</th>\n",
       "      <th>volume</th>\n",
       "    </tr>\n",
       "  </thead>\n",
       "  <tbody>\n",
       "    <tr>\n",
       "      <th>0</th>\n",
       "      <td>AMEN BANK</td>\n",
       "      <td>2014-06-16</td>\n",
       "      <td>0.002430</td>\n",
       "      <td>0.002398</td>\n",
       "      <td>0.002340</td>\n",
       "      <td>0.002357</td>\n",
       "      <td>0.000014</td>\n",
       "    </tr>\n",
       "    <tr>\n",
       "      <th>1</th>\n",
       "      <td>AMEN BANK</td>\n",
       "      <td>2014-06-23</td>\n",
       "      <td>0.002379</td>\n",
       "      <td>0.002348</td>\n",
       "      <td>0.002301</td>\n",
       "      <td>0.002317</td>\n",
       "      <td>0.000150</td>\n",
       "    </tr>\n",
       "    <tr>\n",
       "      <th>2</th>\n",
       "      <td>AMEN BANK</td>\n",
       "      <td>2014-06-30</td>\n",
       "      <td>0.002339</td>\n",
       "      <td>0.002331</td>\n",
       "      <td>0.002270</td>\n",
       "      <td>0.002308</td>\n",
       "      <td>0.000298</td>\n",
       "    </tr>\n",
       "    <tr>\n",
       "      <th>3</th>\n",
       "      <td>AMEN BANK</td>\n",
       "      <td>2014-07-07</td>\n",
       "      <td>0.002339</td>\n",
       "      <td>0.002351</td>\n",
       "      <td>0.002250</td>\n",
       "      <td>0.002316</td>\n",
       "      <td>0.000030</td>\n",
       "    </tr>\n",
       "    <tr>\n",
       "      <th>4</th>\n",
       "      <td>AMEN BANK</td>\n",
       "      <td>2014-07-14</td>\n",
       "      <td>0.002348</td>\n",
       "      <td>0.002350</td>\n",
       "      <td>0.002323</td>\n",
       "      <td>0.002317</td>\n",
       "      <td>0.000051</td>\n",
       "    </tr>\n",
       "  </tbody>\n",
       "</table>\n",
       "</div>"
      ],
      "text/plain": [
       "  companyName       date  openingPrice  highestPrice  lowestPrice  \\\n",
       "0   AMEN BANK 2014-06-16      0.002430      0.002398     0.002340   \n",
       "1   AMEN BANK 2014-06-23      0.002379      0.002348     0.002301   \n",
       "2   AMEN BANK 2014-06-30      0.002339      0.002331     0.002270   \n",
       "3   AMEN BANK 2014-07-07      0.002339      0.002351     0.002250   \n",
       "4   AMEN BANK 2014-07-14      0.002348      0.002350     0.002323   \n",
       "\n",
       "   closingPrice    volume  \n",
       "0      0.002357  0.000014  \n",
       "1      0.002317  0.000150  \n",
       "2      0.002308  0.000298  \n",
       "3      0.002316  0.000030  \n",
       "4      0.002317  0.000051  "
      ]
     },
     "execution_count": 7,
     "metadata": {},
     "output_type": "execute_result"
    }
   ],
   "source": [
    "scaler = MinMaxScaler()\n",
    "data[numeric_columns] = scaler.fit_transform(data[numeric_columns])\n",
    "\n",
    "# Display the first few rows of the dataframe after normalization\n",
    "data.head()"
   ]
  }
 ],
 "metadata": {
  "kernelspec": {
   "display_name": "Python 3",
   "language": "python",
   "name": "python3"
  },
  "language_info": {
   "codemirror_mode": {
    "name": "ipython",
    "version": 3
   },
   "file_extension": ".py",
   "mimetype": "text/x-python",
   "name": "python",
   "nbconvert_exporter": "python",
   "pygments_lexer": "ipython3",
   "version": "3.11.7"
  }
 },
 "nbformat": 4,
 "nbformat_minor": 2
}
